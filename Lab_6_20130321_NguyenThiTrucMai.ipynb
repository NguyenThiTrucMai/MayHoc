{
  "nbformat": 4,
  "nbformat_minor": 0,
  "metadata": {
    "colab": {
      "provenance": [],
      "include_colab_link": true
    },
    "kernelspec": {
      "name": "python3",
      "display_name": "Python 3"
    },
    "language_info": {
      "name": "python"
    }
  },
  "cells": [
    {
      "cell_type": "markdown",
      "metadata": {
        "id": "view-in-github",
        "colab_type": "text"
      },
      "source": [
        "<a href=\"https://colab.research.google.com/github/NguyenThiTrucMai/MayHoc/blob/main/Lab_6_20130321_NguyenThiTrucMai.ipynb\" target=\"_parent\"><img src=\"https://colab.research.google.com/assets/colab-badge.svg\" alt=\"Open In Colab\"/></a>"
      ]
    },
    {
      "cell_type": "markdown",
      "source": [
        "# This lab is to deal with classification task using **Random Forests** and **Naïve Bayes** algorithms with/without **Feature Selection**. \n",
        "\n",
        "*   **Deadline: 23:59, 25/03/2023**\n",
        "\n"
      ],
      "metadata": {
        "id": "LMzehe0sy5wr"
      }
    },
    {
      "cell_type": "markdown",
      "source": [
        "# Import libraries"
      ],
      "metadata": {
        "id": "H4nJmxp9zGX4"
      }
    },
    {
      "cell_type": "code",
      "source": [
        "# code\n",
        "\n",
        "\n",
        "from sklearn import datasets\n",
        "\n",
        "from sklearn.linear_model import LogisticRegression\n",
        "from sklearn.metrics import confusion_matrix\n",
        "from sklearn.metrics import accuracy_score\n",
        "from sklearn.model_selection import train_test_split\n",
        "from sklearn.linear_model import LinearRegression\n",
        "from sklearn.metrics._plot.confusion_matrix import ConfusionMatrixDisplay\n",
        "from sklearn import metrics\n",
        "from sklearn.neighbors import KNeighborsClassifier\n",
        "import matplotlib.pyplot as plt\n",
        "import pandas as pd\n",
        "import numpy as np\n",
        "from sklearn.tree import DecisionTreeClassifier\n",
        "from sklearn import tree\n",
        "from sklearn.metrics import accuracy_score, precision_score, recall_score, f1_score\n",
        "from sklearn import svm\n",
        "from prettytable import PrettyTable\n"
      ],
      "metadata": {
        "id": "sOsg77IBzEyo"
      },
      "execution_count": 16,
      "outputs": []
    },
    {
      "cell_type": "code",
      "source": [
        "from sklearn.feature_selection import chi2\n",
        "from sklearn.feature_selection import SelectKBest\n",
        "from sklearn.ensemble import RandomForestClassifier\n",
        "\n",
        "from sklearn.naive_bayes import GaussianNB\n",
        "from sklearn.decomposition import PCA\n",
        "\n",
        "\n",
        "from sklearn.feature_selection import RFE\n",
        "from sklearn.preprocessing import StandardScaler\n",
        "from sklearn.svm import SVC\n"
      ],
      "metadata": {
        "id": "kxiR4gcHz5sx"
      },
      "execution_count": 17,
      "outputs": []
    },
    {
      "cell_type": "code",
      "source": [
        "from google.colab import drive\n",
        "drive.mount('/content/gdrive')\n",
        "%cd '/content/gdrive/MyDrive/MayHoc/Lab6'"
      ],
      "metadata": {
        "colab": {
          "base_uri": "https://localhost:8080/"
        },
        "id": "L47nJIMnHYc0",
        "outputId": "f3639a63-7114-47db-890d-9f099b11a90a"
      },
      "execution_count": 18,
      "outputs": [
        {
          "output_type": "stream",
          "name": "stdout",
          "text": [
            "Drive already mounted at /content/gdrive; to attempt to forcibly remount, call drive.mount(\"/content/gdrive\", force_remount=True).\n",
            "/content/gdrive/MyDrive/MayHoc/Lab6\n"
          ]
        }
      ]
    },
    {
      "cell_type": "markdown",
      "source": [
        "#Task 1. \n",
        "Task 1. Compare the performance of selected classification algorithms including **Random forest**, **NaiveBayes**, and **SVM** with **mnist** dataset based on **accuracy, precision, recall, f1** measures according to **without using selection feature** and **using selection feature**.\n",
        "\n"
      ],
      "metadata": {
        "id": "kNv07ARGzOUm"
      }
    },
    {
      "cell_type": "code",
      "source": [
        "\n",
        "\n",
        "mnist = datasets.load_digits()\n",
        "x= mnist['data']\n",
        "y= mnist['target']\n",
        "X_train, X_test, y_train, y_test = train_test_split(x, y, test_size=0.3, random_state=0)"
      ],
      "metadata": {
        "id": "W_D1JKb-0O5S"
      },
      "execution_count": null,
      "outputs": []
    },
    {
      "cell_type": "code",
      "source": [
        "# linear\n",
        "# SVM\n",
        "clf = svm.SVC(kernel='linear') \n",
        "clf.fit(X_train, y_train)\n",
        "y_pred_linear = clf.predict(X_test)\n",
        "\n",
        "accuracy_linear = accuracy_score(y_test, y_pred_linear)\n",
        "precision_linear = precision_score(y_test, y_pred_linear, average='macro')\n",
        "recall_linear = recall_score(y_test, y_pred_linear, average='macro')\n",
        "f1_linear = f1_score(y_test, y_pred_linear, average='macro')\n",
        "\n",
        "# Radial Basis\n",
        "clf = svm.SVC(kernel='rbf') \n",
        "clf.fit(X_train, y_train)\n",
        "y_pred_rad = clf.predict(X_test)\n",
        "\n",
        "accuracy_rad = accuracy_score(y_test, y_pred_rad)\n",
        "precision_rad = precision_score(y_test, y_pred_rad, average='macro')\n",
        "recall_rad = recall_score(y_test, y_pred_rad, average='macro')\n",
        "f1_rad = f1_score(y_test, y_pred_rad, average='macro')"
      ],
      "metadata": {
        "id": "ca5PK-JE0tFr"
      },
      "execution_count": null,
      "outputs": []
    },
    {
      "cell_type": "code",
      "source": [
        "#Create a Random Forest Classifier\n",
        "clf=RandomForestClassifier(n_estimators=100)\n",
        "#Train the model using the training sets\n",
        "clf.fit(X_train,y_train)\n",
        "y_pred_random = clf.predict(X_test)\n",
        "\n",
        "accuracy_random = accuracy_score(y_test, y_pred_random)\n",
        "precision_random = precision_score(y_test, y_pred_random, average='macro')\n",
        "recall_random = recall_score(y_test, y_pred_random, average='macro')\n",
        "f1_random = f1_score(y_test, y_pred_random, average='macro')\n",
        "\n",
        "# Naive Bayes\n",
        "# GaussianNB\n",
        "model = GaussianNB()\n",
        "model.fit(X_train, y_train)\n",
        "y_predNB = model.predict(X_test)\n",
        "\n",
        "accuracy_NB = accuracy_score(y_test, y_predNB)\n",
        "precision_NB = precision_score(y_test, y_predNB, average='macro')\n",
        "recall_NB = recall_score(y_test, y_predNB, average='macro')\n",
        "f1_NB = f1_score(y_test, y_predNB, average='macro')\n",
        "\n",
        "\n",
        "# SVM\n",
        "clf = svm.SVC(kernel='linear') \n",
        "clf.fit(X_train, y_train)\n",
        "y_pred_svm = clf.predict(X_test)\n",
        "\n",
        "accuracy_svm = accuracy_score(y_test, y_pred_svm)\n",
        "precision_svm = precision_score(y_test, y_pred_svm, average='macro')\n",
        "recall_svm = recall_score(y_test, y_pred_svm, average='macro')\n",
        "f1_svm = f1_score(y_test, y_pred_svm, average='macro')\n"
      ],
      "metadata": {
        "id": "LKGK24OO1K2S"
      },
      "execution_count": null,
      "outputs": []
    },
    {
      "cell_type": "code",
      "source": [
        "\n",
        "\n",
        "mnist = datasets.load_digits()\n",
        "x= mnist['data']\n",
        "y= mnist['target']\n",
        "x.shape\n",
        "X_new = SelectKBest(chi2, k=2).fit_transform(x,y)\n",
        "X_new.shape\n",
        "\n",
        "X_train, X_test, y_train, y_test = train_test_split(x, y, test_size=0.3, random_state=0)\n"
      ],
      "metadata": {
        "id": "XQs2Nvva5FyE"
      },
      "execution_count": null,
      "outputs": []
    },
    {
      "cell_type": "code",
      "source": [
        "# table\n",
        "\n",
        "t= PrettyTable(['','acc','pre','recall','f1'])\n",
        "\n",
        "t.add_row(['SVM', round(accuracy_svm,2),round(precision_svm,2),round(recall_svm,2),round(f1_svm,2)])\n",
        "t.add_row(['NB', round(accuracy_NB,2),round(precision_NB,2),round(recall_NB,2),round(f1_NB,2)])\n",
        "t.add_row(['Random', round(accuracy_random,2),round(precision_random,2),round(recall_random,2),round(f1_random,2)])\n",
        "t.add_row(['Radial Basis', round(accuracy_rad,2),round(precision_rad,2),round(recall_rad,2),round(f1_rad,2)])\n",
        "\n",
        "print(t)\n",
        "t1= PrettyTable(['','acc','pre','recall','f1'])\n",
        "\n",
        "t1.add_row(['SVM', round(accuracy_svm,2),round(precision_svm,2),round(recall_svm,2),round(f1_svm,2)])\n",
        "t1.add_row(['NB', round(accuracy_NB,2),round(precision_NB,2),round(recall_NB,2),round(f1_NB,2)])\n",
        "t1.add_row(['Random', round(accuracy_random,2),round(precision_random,2),round(recall_random,2),round(f1_random,2)])\n",
        "t1.add_row(['Radial Basis', round(accuracy_rad,2),round(precision_rad,2),round(recall_rad,2),round(f1_rad,2)])\n",
        "\n",
        "\n",
        "\n",
        "print(t1)"
      ],
      "metadata": {
        "colab": {
          "base_uri": "https://localhost:8080/"
        },
        "id": "NpunUnx63rie",
        "outputId": "6b5cf80f-06bf-42f4-b37e-5c603bc5cb0e"
      },
      "execution_count": null,
      "outputs": [
        {
          "output_type": "stream",
          "name": "stdout",
          "text": [
            "+--------------+------+------+--------+------+\n",
            "|              | acc  | pre  | recall |  f1  |\n",
            "+--------------+------+------+--------+------+\n",
            "|     SVM      | 0.97 | 0.97 |  0.98  | 0.97 |\n",
            "|      NB      | 0.82 | 0.86 |  0.83  | 0.82 |\n",
            "|    Random    | 0.98 | 0.98 |  0.98  | 0.98 |\n",
            "| Radial Basis | 0.99 | 0.99 |  0.99  | 0.99 |\n",
            "+--------------+------+------+--------+------+\n",
            "+--------------+------+------+--------+------+\n",
            "|              | acc  | pre  | recall |  f1  |\n",
            "+--------------+------+------+--------+------+\n",
            "|     SVM      | 0.97 | 0.97 |  0.98  | 0.97 |\n",
            "|      NB      | 0.82 | 0.86 |  0.83  | 0.82 |\n",
            "|    Random    | 0.98 | 0.98 |  0.98  | 0.98 |\n",
            "| Radial Basis | 0.99 | 0.99 |  0.99  | 0.99 |\n",
            "+--------------+------+------+--------+------+\n"
          ]
        }
      ]
    },
    {
      "cell_type": "markdown",
      "source": [
        "#Task 2. \n",
        "For given bank dataset (bank.csv) having the following attributes :\n",
        "1.\t**age** (numeric)\n",
        "2.\t**job** : type of job (categorical: 'admin.','blue-collar','entrepreneur','housemaid','management','retired','self-employed','services','student','technician','unemployed','unknown')\n",
        "3.\t**marital** : marital status (categorical: 'divorced','married','single','unknown'; note: 'divorced' means divorced or widowed)\n",
        "4.\t**education** (categorical: 'basic.4y','basic.6y','basic.9y','high.school','illiterate','professional.course','university.degree','unknown')\n",
        "5.\t**default**: has credit in default? (categorical: 'no','yes','unknown')\n",
        "6.\t**housing**: has housing loan? (categorical: 'no','yes','unknown')\n",
        "7.\t**loan**: has personal loan? (categorical: 'no','yes','unknown')\n",
        "8.\t**contact**: contact communication type (categorical: 'cellular','telephone')\n",
        "9.\t**month**: last contact month of year (categorical: 'jan', 'feb', 'mar', ..., 'nov', 'dec')\n",
        "10.\t**day_of_week**: last contact day of the week (categorical: 'mon','tue','wed','thu','fri')\n",
        "11.\t**duration**: last contact duration, in seconds (numeric). Important note: this attribute highly affects the output target (e.g., if duration=0 then y='no'). Yet, the duration is not known before a call is performed. Also, after the end of the call y is obviously known. Thus, this input should only be included for benchmark purposes and should be discarded if the intention is to have a realistic predictive model.\n",
        "12.\t**campaign**: number of contacts performed during this campaign and for this client (numeric, includes last contact)\n",
        "13.\t**pdays**: number of days that passed by after the client was last contacted from a previous campaign (numeric; 999 means client was not previously contacted)\n",
        "14.\t**previous**: number of contacts performed before this campaign and for this client (numeric)\n",
        "15.\t**poutcome**: outcome of the previous marketing campaign (categorical: 'failure','nonexistent','success')\n",
        "Output variable (desired target):\n",
        "16.\t**y**. has the client subscribed a term deposit? (binary: 'yes','no')\n",
        "\n"
      ],
      "metadata": {
        "id": "b52OPWPD2afi"
      }
    },
    {
      "cell_type": "code",
      "source": [
        "from sklearn.preprocessing import StandardScaler, OneHotEncoder"
      ],
      "metadata": {
        "id": "ydI07nAJJkHR"
      },
      "execution_count": 19,
      "outputs": []
    },
    {
      "cell_type": "code",
      "source": [
        "dataset = pd.read_csv(\"bank.csv\")\n",
        "dataset.head(10)"
      ],
      "metadata": {
        "colab": {
          "base_uri": "https://localhost:8080/",
          "height": 427
        },
        "id": "tdvu3_uqJmuI",
        "outputId": "7607f6bc-5ab0-4736-cf58-6f79bb89c664"
      },
      "execution_count": 28,
      "outputs": [
        {
          "output_type": "execute_result",
          "data": {
            "text/plain": [
              "   age         job   marital  education default  balance housing loan  \\\n",
              "0   59      admin.   married  secondary      no     2343     yes   no   \n",
              "1   56      admin.   married  secondary      no       45      no   no   \n",
              "2   41  technician   married  secondary      no     1270     yes   no   \n",
              "3   55    services   married  secondary      no     2476     yes   no   \n",
              "4   54      admin.   married   tertiary      no      184      no   no   \n",
              "5   42  management    single   tertiary      no        0     yes  yes   \n",
              "6   56  management   married   tertiary      no      830     yes  yes   \n",
              "7   60     retired  divorced  secondary      no      545     yes   no   \n",
              "8   37  technician   married  secondary      no        1     yes   no   \n",
              "9   28    services    single  secondary      no     5090     yes   no   \n",
              "\n",
              "   contact  day month  duration  campaign  pdays  previous poutcome deposit  \n",
              "0  unknown    5   may      1042         1     -1         0  unknown     yes  \n",
              "1  unknown    5   may      1467         1     -1         0  unknown     yes  \n",
              "2  unknown    5   may      1389         1     -1         0  unknown     yes  \n",
              "3  unknown    5   may       579         1     -1         0  unknown     yes  \n",
              "4  unknown    5   may       673         2     -1         0  unknown     yes  \n",
              "5  unknown    5   may       562         2     -1         0  unknown     yes  \n",
              "6  unknown    6   may      1201         1     -1         0  unknown     yes  \n",
              "7  unknown    6   may      1030         1     -1         0  unknown     yes  \n",
              "8  unknown    6   may       608         1     -1         0  unknown     yes  \n",
              "9  unknown    6   may      1297         3     -1         0  unknown     yes  "
            ],
            "text/html": [
              "\n",
              "  <div id=\"df-5646ea9e-6741-4a48-9a79-4cc9cba38fd8\">\n",
              "    <div class=\"colab-df-container\">\n",
              "      <div>\n",
              "<style scoped>\n",
              "    .dataframe tbody tr th:only-of-type {\n",
              "        vertical-align: middle;\n",
              "    }\n",
              "\n",
              "    .dataframe tbody tr th {\n",
              "        vertical-align: top;\n",
              "    }\n",
              "\n",
              "    .dataframe thead th {\n",
              "        text-align: right;\n",
              "    }\n",
              "</style>\n",
              "<table border=\"1\" class=\"dataframe\">\n",
              "  <thead>\n",
              "    <tr style=\"text-align: right;\">\n",
              "      <th></th>\n",
              "      <th>age</th>\n",
              "      <th>job</th>\n",
              "      <th>marital</th>\n",
              "      <th>education</th>\n",
              "      <th>default</th>\n",
              "      <th>balance</th>\n",
              "      <th>housing</th>\n",
              "      <th>loan</th>\n",
              "      <th>contact</th>\n",
              "      <th>day</th>\n",
              "      <th>month</th>\n",
              "      <th>duration</th>\n",
              "      <th>campaign</th>\n",
              "      <th>pdays</th>\n",
              "      <th>previous</th>\n",
              "      <th>poutcome</th>\n",
              "      <th>deposit</th>\n",
              "    </tr>\n",
              "  </thead>\n",
              "  <tbody>\n",
              "    <tr>\n",
              "      <th>0</th>\n",
              "      <td>59</td>\n",
              "      <td>admin.</td>\n",
              "      <td>married</td>\n",
              "      <td>secondary</td>\n",
              "      <td>no</td>\n",
              "      <td>2343</td>\n",
              "      <td>yes</td>\n",
              "      <td>no</td>\n",
              "      <td>unknown</td>\n",
              "      <td>5</td>\n",
              "      <td>may</td>\n",
              "      <td>1042</td>\n",
              "      <td>1</td>\n",
              "      <td>-1</td>\n",
              "      <td>0</td>\n",
              "      <td>unknown</td>\n",
              "      <td>yes</td>\n",
              "    </tr>\n",
              "    <tr>\n",
              "      <th>1</th>\n",
              "      <td>56</td>\n",
              "      <td>admin.</td>\n",
              "      <td>married</td>\n",
              "      <td>secondary</td>\n",
              "      <td>no</td>\n",
              "      <td>45</td>\n",
              "      <td>no</td>\n",
              "      <td>no</td>\n",
              "      <td>unknown</td>\n",
              "      <td>5</td>\n",
              "      <td>may</td>\n",
              "      <td>1467</td>\n",
              "      <td>1</td>\n",
              "      <td>-1</td>\n",
              "      <td>0</td>\n",
              "      <td>unknown</td>\n",
              "      <td>yes</td>\n",
              "    </tr>\n",
              "    <tr>\n",
              "      <th>2</th>\n",
              "      <td>41</td>\n",
              "      <td>technician</td>\n",
              "      <td>married</td>\n",
              "      <td>secondary</td>\n",
              "      <td>no</td>\n",
              "      <td>1270</td>\n",
              "      <td>yes</td>\n",
              "      <td>no</td>\n",
              "      <td>unknown</td>\n",
              "      <td>5</td>\n",
              "      <td>may</td>\n",
              "      <td>1389</td>\n",
              "      <td>1</td>\n",
              "      <td>-1</td>\n",
              "      <td>0</td>\n",
              "      <td>unknown</td>\n",
              "      <td>yes</td>\n",
              "    </tr>\n",
              "    <tr>\n",
              "      <th>3</th>\n",
              "      <td>55</td>\n",
              "      <td>services</td>\n",
              "      <td>married</td>\n",
              "      <td>secondary</td>\n",
              "      <td>no</td>\n",
              "      <td>2476</td>\n",
              "      <td>yes</td>\n",
              "      <td>no</td>\n",
              "      <td>unknown</td>\n",
              "      <td>5</td>\n",
              "      <td>may</td>\n",
              "      <td>579</td>\n",
              "      <td>1</td>\n",
              "      <td>-1</td>\n",
              "      <td>0</td>\n",
              "      <td>unknown</td>\n",
              "      <td>yes</td>\n",
              "    </tr>\n",
              "    <tr>\n",
              "      <th>4</th>\n",
              "      <td>54</td>\n",
              "      <td>admin.</td>\n",
              "      <td>married</td>\n",
              "      <td>tertiary</td>\n",
              "      <td>no</td>\n",
              "      <td>184</td>\n",
              "      <td>no</td>\n",
              "      <td>no</td>\n",
              "      <td>unknown</td>\n",
              "      <td>5</td>\n",
              "      <td>may</td>\n",
              "      <td>673</td>\n",
              "      <td>2</td>\n",
              "      <td>-1</td>\n",
              "      <td>0</td>\n",
              "      <td>unknown</td>\n",
              "      <td>yes</td>\n",
              "    </tr>\n",
              "    <tr>\n",
              "      <th>5</th>\n",
              "      <td>42</td>\n",
              "      <td>management</td>\n",
              "      <td>single</td>\n",
              "      <td>tertiary</td>\n",
              "      <td>no</td>\n",
              "      <td>0</td>\n",
              "      <td>yes</td>\n",
              "      <td>yes</td>\n",
              "      <td>unknown</td>\n",
              "      <td>5</td>\n",
              "      <td>may</td>\n",
              "      <td>562</td>\n",
              "      <td>2</td>\n",
              "      <td>-1</td>\n",
              "      <td>0</td>\n",
              "      <td>unknown</td>\n",
              "      <td>yes</td>\n",
              "    </tr>\n",
              "    <tr>\n",
              "      <th>6</th>\n",
              "      <td>56</td>\n",
              "      <td>management</td>\n",
              "      <td>married</td>\n",
              "      <td>tertiary</td>\n",
              "      <td>no</td>\n",
              "      <td>830</td>\n",
              "      <td>yes</td>\n",
              "      <td>yes</td>\n",
              "      <td>unknown</td>\n",
              "      <td>6</td>\n",
              "      <td>may</td>\n",
              "      <td>1201</td>\n",
              "      <td>1</td>\n",
              "      <td>-1</td>\n",
              "      <td>0</td>\n",
              "      <td>unknown</td>\n",
              "      <td>yes</td>\n",
              "    </tr>\n",
              "    <tr>\n",
              "      <th>7</th>\n",
              "      <td>60</td>\n",
              "      <td>retired</td>\n",
              "      <td>divorced</td>\n",
              "      <td>secondary</td>\n",
              "      <td>no</td>\n",
              "      <td>545</td>\n",
              "      <td>yes</td>\n",
              "      <td>no</td>\n",
              "      <td>unknown</td>\n",
              "      <td>6</td>\n",
              "      <td>may</td>\n",
              "      <td>1030</td>\n",
              "      <td>1</td>\n",
              "      <td>-1</td>\n",
              "      <td>0</td>\n",
              "      <td>unknown</td>\n",
              "      <td>yes</td>\n",
              "    </tr>\n",
              "    <tr>\n",
              "      <th>8</th>\n",
              "      <td>37</td>\n",
              "      <td>technician</td>\n",
              "      <td>married</td>\n",
              "      <td>secondary</td>\n",
              "      <td>no</td>\n",
              "      <td>1</td>\n",
              "      <td>yes</td>\n",
              "      <td>no</td>\n",
              "      <td>unknown</td>\n",
              "      <td>6</td>\n",
              "      <td>may</td>\n",
              "      <td>608</td>\n",
              "      <td>1</td>\n",
              "      <td>-1</td>\n",
              "      <td>0</td>\n",
              "      <td>unknown</td>\n",
              "      <td>yes</td>\n",
              "    </tr>\n",
              "    <tr>\n",
              "      <th>9</th>\n",
              "      <td>28</td>\n",
              "      <td>services</td>\n",
              "      <td>single</td>\n",
              "      <td>secondary</td>\n",
              "      <td>no</td>\n",
              "      <td>5090</td>\n",
              "      <td>yes</td>\n",
              "      <td>no</td>\n",
              "      <td>unknown</td>\n",
              "      <td>6</td>\n",
              "      <td>may</td>\n",
              "      <td>1297</td>\n",
              "      <td>3</td>\n",
              "      <td>-1</td>\n",
              "      <td>0</td>\n",
              "      <td>unknown</td>\n",
              "      <td>yes</td>\n",
              "    </tr>\n",
              "  </tbody>\n",
              "</table>\n",
              "</div>\n",
              "      <button class=\"colab-df-convert\" onclick=\"convertToInteractive('df-5646ea9e-6741-4a48-9a79-4cc9cba38fd8')\"\n",
              "              title=\"Convert this dataframe to an interactive table.\"\n",
              "              style=\"display:none;\">\n",
              "        \n",
              "  <svg xmlns=\"http://www.w3.org/2000/svg\" height=\"24px\"viewBox=\"0 0 24 24\"\n",
              "       width=\"24px\">\n",
              "    <path d=\"M0 0h24v24H0V0z\" fill=\"none\"/>\n",
              "    <path d=\"M18.56 5.44l.94 2.06.94-2.06 2.06-.94-2.06-.94-.94-2.06-.94 2.06-2.06.94zm-11 1L8.5 8.5l.94-2.06 2.06-.94-2.06-.94L8.5 2.5l-.94 2.06-2.06.94zm10 10l.94 2.06.94-2.06 2.06-.94-2.06-.94-.94-2.06-.94 2.06-2.06.94z\"/><path d=\"M17.41 7.96l-1.37-1.37c-.4-.4-.92-.59-1.43-.59-.52 0-1.04.2-1.43.59L10.3 9.45l-7.72 7.72c-.78.78-.78 2.05 0 2.83L4 21.41c.39.39.9.59 1.41.59.51 0 1.02-.2 1.41-.59l7.78-7.78 2.81-2.81c.8-.78.8-2.07 0-2.86zM5.41 20L4 18.59l7.72-7.72 1.47 1.35L5.41 20z\"/>\n",
              "  </svg>\n",
              "      </button>\n",
              "      \n",
              "  <style>\n",
              "    .colab-df-container {\n",
              "      display:flex;\n",
              "      flex-wrap:wrap;\n",
              "      gap: 12px;\n",
              "    }\n",
              "\n",
              "    .colab-df-convert {\n",
              "      background-color: #E8F0FE;\n",
              "      border: none;\n",
              "      border-radius: 50%;\n",
              "      cursor: pointer;\n",
              "      display: none;\n",
              "      fill: #1967D2;\n",
              "      height: 32px;\n",
              "      padding: 0 0 0 0;\n",
              "      width: 32px;\n",
              "    }\n",
              "\n",
              "    .colab-df-convert:hover {\n",
              "      background-color: #E2EBFA;\n",
              "      box-shadow: 0px 1px 2px rgba(60, 64, 67, 0.3), 0px 1px 3px 1px rgba(60, 64, 67, 0.15);\n",
              "      fill: #174EA6;\n",
              "    }\n",
              "\n",
              "    [theme=dark] .colab-df-convert {\n",
              "      background-color: #3B4455;\n",
              "      fill: #D2E3FC;\n",
              "    }\n",
              "\n",
              "    [theme=dark] .colab-df-convert:hover {\n",
              "      background-color: #434B5C;\n",
              "      box-shadow: 0px 1px 3px 1px rgba(0, 0, 0, 0.15);\n",
              "      filter: drop-shadow(0px 1px 2px rgba(0, 0, 0, 0.3));\n",
              "      fill: #FFFFFF;\n",
              "    }\n",
              "  </style>\n",
              "\n",
              "      <script>\n",
              "        const buttonEl =\n",
              "          document.querySelector('#df-5646ea9e-6741-4a48-9a79-4cc9cba38fd8 button.colab-df-convert');\n",
              "        buttonEl.style.display =\n",
              "          google.colab.kernel.accessAllowed ? 'block' : 'none';\n",
              "\n",
              "        async function convertToInteractive(key) {\n",
              "          const element = document.querySelector('#df-5646ea9e-6741-4a48-9a79-4cc9cba38fd8');\n",
              "          const dataTable =\n",
              "            await google.colab.kernel.invokeFunction('convertToInteractive',\n",
              "                                                     [key], {});\n",
              "          if (!dataTable) return;\n",
              "\n",
              "          const docLinkHtml = 'Like what you see? Visit the ' +\n",
              "            '<a target=\"_blank\" href=https://colab.research.google.com/notebooks/data_table.ipynb>data table notebook</a>'\n",
              "            + ' to learn more about interactive tables.';\n",
              "          element.innerHTML = '';\n",
              "          dataTable['output_type'] = 'display_data';\n",
              "          await google.colab.output.renderOutput(dataTable, element);\n",
              "          const docLink = document.createElement('div');\n",
              "          docLink.innerHTML = docLinkHtml;\n",
              "          element.appendChild(docLink);\n",
              "        }\n",
              "      </script>\n",
              "    </div>\n",
              "  </div>\n",
              "  "
            ]
          },
          "metadata": {},
          "execution_count": 28
        }
      ]
    },
    {
      "cell_type": "markdown",
      "source": [
        "#3.1. Apply StandardScaler() function to columns that contains numerical data ('age', 'balance', 'day', 'campaign', 'pdays', 'previous')"
      ],
      "metadata": {
        "id": "q89LEvT7dqaZ"
      }
    },
    {
      "cell_type": "code",
      "source": [
        "#code\n",
        "dataset[['age', 'balance', 'day', 'campaign', 'pdays', 'previous']] = StandardScaler().fit_transform(dataset[['age', 'balance', 'day', 'campaign', 'pdays', 'previous']])\n",
        "     \n"
      ],
      "metadata": {
        "id": "8vx3mfIidu4P"
      },
      "execution_count": 24,
      "outputs": []
    },
    {
      "cell_type": "markdown",
      "source": [
        "#3.2. Apply Encode Categorical Value (OneHotEncoder) to transfrom categorical data to numerical data ('job', 'marital', 'education', 'default', 'housing', 'loan', 'contact', 'month', 'poutcome')"
      ],
      "metadata": {
        "id": "r7acR0TxdvY8"
      }
    },
    {
      "cell_type": "code",
      "source": [
        "#code\n",
        "encode = OneHotEncoder()\n",
        "encode.fit(dataset[['job', 'marital', 'education', 'default', 'housing', 'loan', 'contact', 'month', 'poutcome']])\n",
        "encoded = encode.transform(dataset[['job', 'marital', 'education', 'default', 'housing', 'loan', 'contact', 'month', 'poutcome']]).toarray()\n",
        "new_df = pd.DataFrame(encoded, columns=encode.get_feature_names_out(['job', 'marital', 'education', 'default', 'housing', 'loan', 'contact', 'month', 'poutcome']))\n",
        "dataset = pd.concat([dataset, new_df], axis=1)\n",
        "dataset = dataset.drop(['job', 'marital', 'education', 'default', 'housing', 'loan', 'contact', 'month', 'poutcome'], axis=1)\n",
        "\n",
        "print(dataset.columns)"
      ],
      "metadata": {
        "id": "egtgBmAtd0um",
        "colab": {
          "base_uri": "https://localhost:8080/"
        },
        "outputId": "478c8842-9053-456e-cef1-163bde51adae"
      },
      "execution_count": 25,
      "outputs": [
        {
          "output_type": "stream",
          "name": "stdout",
          "text": [
            "Index(['age', 'balance', 'day', 'duration', 'campaign', 'pdays', 'previous',\n",
            "       'deposit', 'job_admin.', 'job_blue-collar', 'job_entrepreneur',\n",
            "       'job_housemaid', 'job_management', 'job_retired', 'job_self-employed',\n",
            "       'job_services', 'job_student', 'job_technician', 'job_unemployed',\n",
            "       'job_unknown', 'marital_divorced', 'marital_married', 'marital_single',\n",
            "       'education_primary', 'education_secondary', 'education_tertiary',\n",
            "       'education_unknown', 'default_no', 'default_yes', 'housing_no',\n",
            "       'housing_yes', 'loan_no', 'loan_yes', 'contact_cellular',\n",
            "       'contact_telephone', 'contact_unknown', 'month_apr', 'month_aug',\n",
            "       'month_dec', 'month_feb', 'month_jan', 'month_jul', 'month_jun',\n",
            "       'month_mar', 'month_may', 'month_nov', 'month_oct', 'month_sep',\n",
            "       'poutcome_failure', 'poutcome_other', 'poutcome_success',\n",
            "       'poutcome_unknown'],\n",
            "      dtype='object')\n"
          ]
        }
      ]
    },
    {
      "cell_type": "code",
      "source": [
        "# Select categorical columns to be encoded\n",
        "cat_cols = ['job', 'marital', 'education', 'default', 'housing', 'loan', 'contact', 'month', 'poutcome']\n",
        "\n",
        "# Create OneHotEncoder instance\n",
        "encoder = OneHotEncoder(handle_unknown=\"ignore\")\n",
        "\n",
        "# Fit the encoder on the categorical columns\n",
        "encoder.fit(df[cat_cols])\n",
        "\n",
        "# Transform the categorical columns to numerical using the fitted encoder\n",
        "encoded = encoder.transform(df[cat_cols]).toarray()\n",
        "\n",
        "# Create a dataframe from the encoded data and get the new column names\n",
        "encoded_df = pd.DataFrame(encoded, columns=encoder.get_feature_names_out(cat_cols))\n",
        "\n",
        "# Concatenate the encoded dataframe with the original dataframe\n",
        "df_encoded = pd.concat([df, encoded_df], axis=1)\n",
        "\n",
        "# Drop the original categorical columns\n",
        "df_encoded.drop(cat_cols, axis=1, inplace=True)\n",
        "\n",
        "# Display the encoded dataframe\n",
        "print(df_encoded.head())"
      ],
      "metadata": {
        "colab": {
          "base_uri": "https://localhost:8080/"
        },
        "id": "N9Py8e2ZPHft",
        "outputId": "465f2e30-73ba-48d2-f429-c767ccc118f7"
      },
      "execution_count": 29,
      "outputs": [
        {
          "output_type": "stream",
          "name": "stdout",
          "text": [
            "   age  balance  day  duration  campaign  pdays  previous deposit  job_admin.  \\\n",
            "0   59     2343    5      1042         1     -1         0     yes         1.0   \n",
            "1   56       45    5      1467         1     -1         0     yes         1.0   \n",
            "2   41     1270    5      1389         1     -1         0     yes         0.0   \n",
            "3   55     2476    5       579         1     -1         0     yes         0.0   \n",
            "4   54      184    5       673         2     -1         0     yes         1.0   \n",
            "\n",
            "   job_blue-collar  ...  month_jun  month_mar  month_may  month_nov  \\\n",
            "0              0.0  ...        0.0        0.0        1.0        0.0   \n",
            "1              0.0  ...        0.0        0.0        1.0        0.0   \n",
            "2              0.0  ...        0.0        0.0        1.0        0.0   \n",
            "3              0.0  ...        0.0        0.0        1.0        0.0   \n",
            "4              0.0  ...        0.0        0.0        1.0        0.0   \n",
            "\n",
            "   month_oct  month_sep  poutcome_failure  poutcome_other  poutcome_success  \\\n",
            "0        0.0        0.0               0.0             0.0               0.0   \n",
            "1        0.0        0.0               0.0             0.0               0.0   \n",
            "2        0.0        0.0               0.0             0.0               0.0   \n",
            "3        0.0        0.0               0.0             0.0               0.0   \n",
            "4        0.0        0.0               0.0             0.0               0.0   \n",
            "\n",
            "   poutcome_unknown  \n",
            "0               1.0  \n",
            "1               1.0  \n",
            "2               1.0  \n",
            "3               1.0  \n",
            "4               1.0  \n",
            "\n",
            "[5 rows x 52 columns]\n"
          ]
        }
      ]
    },
    {
      "cell_type": "markdown",
      "source": [
        "#3.3. Apply **Decision tree, Random forest, kNN, NaïveBayes** to preproceed dataset in the previous steps. Then compare the obtained results using **accuracy, precision, recall, f1** measures."
      ],
      "metadata": {
        "id": "K2Si6d69d1nh"
      }
    },
    {
      "cell_type": "code",
      "source": [
        "#code\n",
        "x_train, x_test, y_train, y_test = train_test_split(dataset.drop('deposit', axis=1), dataset['deposit'], test_size=0.3)\n",
        "\n",
        "rf = RandomForestClassifier(n_estimators=100)\n",
        "rf.fit(x_train, y_train)\n",
        "rf_pred = rf.predict(x_test)\n",
        "\n",
        "sVM = svm.SVC(kernel ='linear')\n",
        "sVM.fit(x_train, y_train)\n",
        "sVM_pred = sVM.predict(x_test)\n",
        "\n",
        "gauss = GaussianNB()\n",
        "gauss.fit(x_train, y_train)\n",
        "gauss_pred = gauss.predict(x_test)\n",
        "t = PrettyTable([\"Algorithm\",\"Accuracy\",\"Precision\", \"Recall\", \"F1\"])\n",
        "t.add_row([\"SVM\", round(accuracy_score(y_test, sVM_pred), 2), \n",
        "           round(precision_score(y_test, sVM_pred, average='micro'), 2), \n",
        "           round(recall_score(y_test, sVM_pred, average='macro'), 2),\n",
        "           round(f1_score(y_test, sVM_pred,average='macro'), 2)])\n",
        "t.add_row([\"Random forest\", round(accuracy_score(y_test, rf_pred), 2), \n",
        "           round(precision_score(y_test, rf_pred, average='micro'), 2), \n",
        "           round(recall_score(y_test, rf_pred, average='macro'), 2),\n",
        "           round(f1_score(y_test, rf_pred,average='macro'), 2)])\n",
        "t.add_row([\"Naive Bayes\", round(accuracy_score(y_test, gauss_pred), 2), \n",
        "           round(precision_score(y_test, gauss_pred, average='micro'), 2), \n",
        "           round(recall_score(y_test, gauss_pred, average='macro'), 2),\n",
        "           round(f1_score(y_test, gauss_pred,average='macro'), 2)])\n",
        "print(t)"
      ],
      "metadata": {
        "id": "Ouil-cf_d8jW",
        "colab": {
          "base_uri": "https://localhost:8080/"
        },
        "outputId": "b5f0cb68-b953-44a8-ef1e-1733d09a3075"
      },
      "execution_count": 26,
      "outputs": [
        {
          "output_type": "stream",
          "name": "stdout",
          "text": [
            "+---------------+----------+-----------+--------+------+\n",
            "|   Algorithm   | Accuracy | Precision | Recall |  F1  |\n",
            "+---------------+----------+-----------+--------+------+\n",
            "|      SVM      |   0.83   |    0.83   |  0.83  | 0.83 |\n",
            "| Random forest |   0.86   |    0.86   |  0.86  | 0.86 |\n",
            "|  Naive Bayes  |   0.72   |    0.72   |  0.71  | 0.71 |\n",
            "+---------------+----------+-----------+--------+------+\n"
          ]
        }
      ]
    },
    {
      "cell_type": "markdown",
      "source": [
        "#3.4. Using selection feature to above dataset, then compare the classification results with those in Task 2.3. "
      ],
      "metadata": {
        "id": "SweVRB4meApP"
      }
    },
    {
      "cell_type": "code",
      "source": [
        "#code\n",
        "from sklearn.feature_selection  import SelectFromModel\n",
        "\n",
        "importances = rf.feature_importances_\n",
        "importances_sort = np.argsort(importances)[::-1]\n",
        "\n",
        "select = SelectFromModel(rf, threshold=0.011)\n",
        "x_train = select.fit_transform(x_train, y_train)\n",
        "x_test = select.transform(x_test)\n",
        "\n",
        "rf = RandomForestClassifier(n_estimators=100)\n",
        "rf.fit(x_train, y_train)\n",
        "rf_pred = rf.predict(x_test)\n",
        "\n",
        "sVM = svm.SVC(kernel ='linear')\n",
        "sVM.fit(x_train, y_train)\n",
        "sVM_pred = sVM.predict(x_test)\n",
        "\n",
        "gauss = GaussianNB()\n",
        "gauss.fit(x_train, y_train)\n",
        "gauss_pred = gauss.predict(x_test)\n",
        "t = PrettyTable([\"Algorithm\",\"Accuracy\",\"Precision\", \"Recall\", \"F1\"])\n",
        "t.add_row([\"SVM\", round(accuracy_score(y_test, sVM_pred), 2), \n",
        "           round(precision_score(y_test, sVM_pred, average='micro'), 2), \n",
        "           round(recall_score(y_test, sVM_pred, average='macro'), 2),\n",
        "           round(f1_score(y_test, sVM_pred,average='macro'), 2)])\n",
        "t.add_row([\"Random forest\", round(accuracy_score(y_test, rf_pred), 2), \n",
        "           round(precision_score(y_test, rf_pred, average='micro'), 2), \n",
        "           round(recall_score(y_test, rf_pred, average='macro'), 2),\n",
        "           round(f1_score(y_test, rf_pred,average='macro'), 2)])\n",
        "t.add_row([\"Naive Bayes\", round(accuracy_score(y_test, gauss_pred), 2), \n",
        "           round(precision_score(y_test, gauss_pred, average='micro'), 2), \n",
        "           round(recall_score(y_test, gauss_pred, average='macro'), 2),\n",
        "           round(f1_score(y_test, gauss_pred,average='macro'), 2)])\n",
        "print(t)"
      ],
      "metadata": {
        "id": "seFBhqCSeC7C",
        "colab": {
          "base_uri": "https://localhost:8080/"
        },
        "outputId": "9612dd11-c8f0-4945-a47e-366f3c9f8540"
      },
      "execution_count": 27,
      "outputs": [
        {
          "output_type": "stream",
          "name": "stdout",
          "text": [
            "+---------------+----------+-----------+--------+------+\n",
            "|   Algorithm   | Accuracy | Precision | Recall |  F1  |\n",
            "+---------------+----------+-----------+--------+------+\n",
            "|      SVM      |   0.8    |    0.8    |  0.8   | 0.8  |\n",
            "| Random forest |   0.84   |    0.84   |  0.84  | 0.84 |\n",
            "|  Naive Bayes  |   0.72   |    0.72   |  0.71  | 0.71 |\n",
            "+---------------+----------+-----------+--------+------+\n"
          ]
        }
      ]
    },
    {
      "cell_type": "markdown",
      "source": [
        "#Task 4. \n",
        "For a given dataset in the Lab #5 (**credit card dataset**), perform feature selection and thencompare the performance of selected classification algorithms (Decision Tree, kNN, Logistic Regression, SVM, Random Forest and NaiveBayes) based on accuracy, precision, recall, f1 measures.\n"
      ],
      "metadata": {
        "id": "Z5pp7_h-aP2u"
      }
    },
    {
      "cell_type": "code",
      "source": [
        "# code\n",
        "from google.colab import drive\n",
        "drive.mount('/content/gdrive')\n",
        "%cd '/content/gdrive/MyDrive/MayHoc/Lab5'\n",
        "\n",
        "df = pd.read_csv(\"creditcard.csv\")"
      ],
      "metadata": {
        "id": "Rw_-8FIf2KxW",
        "colab": {
          "base_uri": "https://localhost:8080/"
        },
        "outputId": "83d475f2-45e6-44e4-ba07-25bc32e96ef5"
      },
      "execution_count": null,
      "outputs": [
        {
          "output_type": "stream",
          "name": "stdout",
          "text": [
            "Drive already mounted at /content/gdrive; to attempt to forcibly remount, call drive.mount(\"/content/gdrive\", force_remount=True).\n",
            "/content/gdrive/MyDrive/MayHoc/Lab5\n"
          ]
        }
      ]
    },
    {
      "cell_type": "code",
      "source": [
        "# Separate the features and target variable\n",
        "X = df.drop('Class', axis=1)\n",
        "y = df['Class']\n",
        "\n",
        "# Split the dataset into training and testing sets\n",
        "X_train, X_test, y_train, y_test = train_test_split(X, y, test_size=0.3, random_state=42)\n"
      ],
      "metadata": {
        "id": "1H8KxDAKH0Nn"
      },
      "execution_count": null,
      "outputs": []
    },
    {
      "cell_type": "code",
      "source": [
        "# Scale the numerical features\n",
        "scaler = StandardScaler()\n",
        "num_cols = ['Time', 'Amount']\n",
        "X_train[num_cols] = scaler.fit_transform(X_train[num_cols])\n",
        "X_test[num_cols] = scaler.transform(X_test[num_cols])"
      ],
      "metadata": {
        "id": "zuhlro3XH1eZ"
      },
      "execution_count": null,
      "outputs": []
    },
    {
      "cell_type": "code",
      "source": [
        "# Train and evaluate the performance of different classification algorithms\n",
        "classifiers = {\n",
        "    'Decision Tree': DecisionTreeClassifier(),\n",
        "    'kNN': KNeighborsClassifier(),\n",
        "    'Logistic Regression': LogisticRegression(),\n",
        "    'SVM': SVC(),\n",
        "    'Random Forest': RandomForestClassifier(),\n",
        "    'Naive Bayes': GaussianNB()\n",
        "}\n",
        "\n",
        "for name, clf in classifiers.items():\n",
        "    clf.fit(X_train, y_train)\n",
        "    y_pred = clf.predict(X_test)\n",
        "    acc = accuracy_score(y_test, y_pred)\n",
        "    precision = precision_score(y_test, y_pred)\n",
        "    recall = recall_score(y_test, y_pred)\n",
        "    f1 = f1_score(y_test, y_pred)\n",
        "    print(f'{name}: Accuracy = {acc}, Precision = {precision}, Recall = {recall}, F1-score = {f1}')\n"
      ],
      "metadata": {
        "colab": {
          "base_uri": "https://localhost:8080/"
        },
        "id": "EL6_t935H3h1",
        "outputId": "c06a4d69-7d4b-42fd-d096-edd2222aa903"
      },
      "execution_count": null,
      "outputs": [
        {
          "output_type": "stream",
          "name": "stdout",
          "text": [
            "Decision Tree: Accuracy = 0.9992275552122467, Precision = 0.7464788732394366, Recall = 0.7794117647058824, F1-score = 0.762589928057554\n",
            "kNN: Accuracy = 0.9994733330992591, Precision = 0.8823529411764706, Recall = 0.7720588235294118, F1-score = 0.823529411764706\n",
            "Logistic Regression: Accuracy = 0.9992743700478681, Precision = 0.8775510204081632, Recall = 0.6323529411764706, F1-score = 0.7350427350427351\n",
            "SVM: Accuracy = 0.9994148145547324, Precision = 0.93, Recall = 0.6838235294117647, F1-score = 0.788135593220339\n",
            "Random Forest: Accuracy = 0.9995903701883126, Precision = 0.9243697478991597, Recall = 0.8088235294117647, F1-score = 0.8627450980392157\n",
            "Naive Bayes: Accuracy = 0.9780438420935594, Precision = 0.0583756345177665, Recall = 0.8455882352941176, F1-score = 0.10921177587844254\n"
          ]
        }
      ]
    },
    {
      "cell_type": "markdown",
      "source": [
        "#Finally,\n",
        "Save a copy in your Github. Remember renaming the notebook."
      ],
      "metadata": {
        "id": "Ok7RGkea_b7n"
      }
    }
  ]
}