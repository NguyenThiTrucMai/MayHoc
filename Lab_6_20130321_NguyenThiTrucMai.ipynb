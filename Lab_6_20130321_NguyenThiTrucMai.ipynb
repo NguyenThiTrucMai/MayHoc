{
  "nbformat": 4,
  "nbformat_minor": 0,
  "metadata": {
    "colab": {
      "provenance": [],
      "include_colab_link": true
    },
    "kernelspec": {
      "name": "python3",
      "display_name": "Python 3"
    },
    "language_info": {
      "name": "python"
    }
  },
  "cells": [
    {
      "cell_type": "markdown",
      "metadata": {
        "id": "view-in-github",
        "colab_type": "text"
      },
      "source": [
        "<a href=\"https://colab.research.google.com/github/NguyenThiTrucMai/MayHoc/blob/main/Lab_6_20130321_NguyenThiTrucMai.ipynb\" target=\"_parent\"><img src=\"https://colab.research.google.com/assets/colab-badge.svg\" alt=\"Open In Colab\"/></a>"
      ]
    },
    {
      "cell_type": "markdown",
      "source": [
        "# This lab is to deal with classification task using **Random Forests** and **Naïve Bayes** algorithms with/without **Feature Selection**. \n",
        "\n",
        "*   **Deadline: 23:59, 25/03/2023**\n",
        "\n"
      ],
      "metadata": {
        "id": "LMzehe0sy5wr"
      }
    },
    {
      "cell_type": "markdown",
      "source": [
        "# Import libraries"
      ],
      "metadata": {
        "id": "H4nJmxp9zGX4"
      }
    },
    {
      "cell_type": "code",
      "execution_count": null,
      "metadata": {
        "id": "DoVWQ8AEyc-C"
      },
      "outputs": [],
      "source": [
        "# code\n",
        "\n"
      ]
    },
    {
      "cell_type": "code",
      "source": [
        "# code\n",
        "\n",
        "\n",
        "from sklearn import datasets\n",
        "from sklearn.linear_model import LogisticRegression\n",
        "from sklearn.metrics import confusion_matrix\n",
        "from sklearn.metrics import accuracy_score\n",
        "from sklearn.model_selection import train_test_split\n",
        "from sklearn.linear_model import LinearRegression\n",
        "from sklearn.metrics._plot.confusion_matrix import ConfusionMatrixDisplay\n",
        "from sklearn import metrics\n",
        "from sklearn.neighbors import KNeighborsClassifier\n",
        "import matplotlib.pyplot as plt\n",
        "import pandas as pd\n",
        "import numpy as np\n",
        "from sklearn.tree import DecisionTreeClassifier\n",
        "from sklearn import tree\n",
        "from sklearn.metrics import accuracy_score, precision_score, recall_score, f1_score\n",
        "from sklearn import svm\n",
        "from prettytable import PrettyTable\n"
      ],
      "metadata": {
        "id": "sOsg77IBzEyo"
      },
      "execution_count": 1,
      "outputs": []
    },
    {
      "cell_type": "code",
      "source": [
        "from sklearn.feature_selection import chi2\n",
        "from sklearn.feature_selection import SelectKBest\n",
        "from sklearn.ensemble import RandomForestClassifier\n",
        "\n",
        "from sklearn.naive_bayes import GaussianNB\n",
        "from sklearn.decomposition import PCA\n"
      ],
      "metadata": {
        "id": "kxiR4gcHz5sx"
      },
      "execution_count": 13,
      "outputs": []
    },
    {
      "cell_type": "markdown",
      "source": [
        "#Task 1. \n",
        "Task 1. Compare the performance of selected classification algorithms including **Random forest**, **NaiveBayes**, and **SVM** with **mnist** dataset based on **accuracy, precision, recall, f1** measures according to **without using selection feature** and **using selection feature**.\n",
        "\n"
      ],
      "metadata": {
        "id": "kNv07ARGzOUm"
      }
    },
    {
      "cell_type": "code",
      "source": [
        "\n",
        "\n",
        "mnist = datasets.load_digits()\n",
        "x= mnist['data']\n",
        "y= mnist['target']\n",
        "X_train, X_test, y_train, y_test = train_test_split(x, y, test_size=0.3, random_state=0)"
      ],
      "metadata": {
        "id": "W_D1JKb-0O5S"
      },
      "execution_count": 5,
      "outputs": []
    },
    {
      "cell_type": "code",
      "source": [
        "# linear\n",
        "# SVM\n",
        "clf = svm.SVC(kernel='linear') \n",
        "clf.fit(X_train, y_train)\n",
        "y_pred_linear = clf.predict(X_test)\n",
        "\n",
        "accuracy_linear = accuracy_score(y_test, y_pred_linear)\n",
        "precision_linear = precision_score(y_test, y_pred_linear, average='macro')\n",
        "recall_linear = recall_score(y_test, y_pred_linear, average='macro')\n",
        "f1_linear = f1_score(y_test, y_pred_linear, average='macro')\n",
        "\n",
        "# Radial Basis\n",
        "clf = svm.SVC(kernel='rbf') \n",
        "clf.fit(X_train, y_train)\n",
        "y_pred_rad = clf.predict(X_test)\n",
        "\n",
        "accuracy_rad = accuracy_score(y_test, y_pred_rad)\n",
        "precision_rad = precision_score(y_test, y_pred_rad, average='macro')\n",
        "recall_rad = recall_score(y_test, y_pred_rad, average='macro')\n",
        "f1_rad = f1_score(y_test, y_pred_rad, average='macro')"
      ],
      "metadata": {
        "id": "ca5PK-JE0tFr"
      },
      "execution_count": 10,
      "outputs": []
    },
    {
      "cell_type": "code",
      "source": [
        "#Create a Random Forest Classifier\n",
        "clf=RandomForestClassifier(n_estimators=100)\n",
        "#Train the model using the training sets\n",
        "clf.fit(X_train,y_train)\n",
        "y_pred_random = clf.predict(X_test)\n",
        "\n",
        "accuracy_random = accuracy_score(y_test, y_pred_random)\n",
        "precision_random = precision_score(y_test, y_pred_random, average='macro')\n",
        "recall_random = recall_score(y_test, y_pred_random, average='macro')\n",
        "f1_random = f1_score(y_test, y_pred_random, average='macro')\n",
        "\n",
        "# Naive Bayes\n",
        "# GaussianNB\n",
        "model = GaussianNB()\n",
        "model.fit(X_train, y_train)\n",
        "y_predNB = model.predict(X_test)\n",
        "\n",
        "accuracy_NB = accuracy_score(y_test, y_predNB)\n",
        "precision_NB = precision_score(y_test, y_predNB, average='macro')\n",
        "recall_NB = recall_score(y_test, y_predNB, average='macro')\n",
        "f1_NB = f1_score(y_test, y_predNB, average='macro')\n",
        "\n",
        "\n",
        "# SVM\n",
        "clf = svm.SVC(kernel='linear') \n",
        "clf.fit(X_train, y_train)\n",
        "y_pred_svm = clf.predict(X_test)\n",
        "\n",
        "accuracy_svm = accuracy_score(y_test, y_pred_svm)\n",
        "precision_svm = precision_score(y_test, y_pred_svm, average='macro')\n",
        "recall_svm = recall_score(y_test, y_pred_svm, average='macro')\n",
        "f1_svm = f1_score(y_test, y_pred_svm, average='macro')\n"
      ],
      "metadata": {
        "id": "LKGK24OO1K2S"
      },
      "execution_count": 6,
      "outputs": []
    },
    {
      "cell_type": "code",
      "source": [
        "# feature extraction\n",
        "pca = PCA(n_components=3)\n",
        "fit = pca.fit(x)\n",
        "# summarize components\n",
        "print(fit.components_)\n"
      ],
      "metadata": {
        "colab": {
          "base_uri": "https://localhost:8080/"
        },
        "id": "XQs2Nvva5FyE",
        "outputId": "5277101a-f656-489b-d50d-ad81088a49c5"
      },
      "execution_count": 16,
      "outputs": [
        {
          "output_type": "stream",
          "name": "stdout",
          "text": [
            "[[-1.42498408e-17 -1.73094630e-02 -2.23428830e-01 -1.35913312e-01\n",
            "  -3.30323043e-02 -9.66340950e-02 -8.32944516e-03  2.26900026e-03\n",
            "  -3.20516318e-04 -1.19308886e-01 -2.44451669e-01  1.48512736e-01\n",
            "  -4.67319330e-02 -2.17740754e-01 -1.48136796e-02  4.47779600e-03\n",
            "  -4.94135632e-05 -7.95419145e-02  8.33951454e-02  2.15915325e-01\n",
            "  -1.72126800e-01 -1.63712090e-01  2.86444584e-02  4.23251940e-03\n",
            "   9.85488875e-05  6.42319245e-02  2.54093317e-01 -3.56771133e-02\n",
            "  -2.09462574e-01 -4.31311284e-02  5.13118834e-02  2.13422773e-04\n",
            "  -0.00000000e+00  1.59950887e-01  3.68690777e-01  1.64406856e-01\n",
            "   8.52007913e-02  3.72982746e-02  2.15867011e-02 -0.00000000e+00\n",
            "   1.28865589e-03  1.06945284e-01  3.03067454e-01  2.47813055e-01\n",
            "   2.09637299e-01  1.22325104e-02 -3.69458562e-02  1.61485003e-03\n",
            "   6.93023477e-04 -8.35144408e-03 -5.58599107e-02  9.30533882e-02\n",
            "   1.07387733e-01 -1.37734552e-01 -6.32879514e-02  9.61668915e-04\n",
            "   9.55078895e-06 -1.40786826e-02 -2.35675485e-01 -1.41225593e-01\n",
            "  -9.15961926e-03 -8.94184593e-02 -3.65977138e-02 -1.14684986e-02]\n",
            " [-8.41259123e-17 -1.01064630e-02 -4.90849238e-02 -9.43335512e-03\n",
            "  -5.36016064e-02 -1.17755236e-01 -6.21281150e-02 -7.93573897e-03\n",
            "  -1.63217184e-04 -2.10167906e-02  6.03485408e-02 -5.33765323e-03\n",
            "  -9.19769705e-02 -5.19210138e-02 -5.89354335e-02 -3.33283588e-03\n",
            "  -4.22876626e-05  3.62457393e-02  1.98257353e-01 -4.86385553e-02\n",
            "  -2.25574896e-01 -4.50546857e-03  2.67696155e-02 -2.08742461e-04\n",
            "  -5.66235810e-05  7.71234542e-02  1.88447103e-01 -1.37952464e-01\n",
            "  -2.61042741e-01  4.98350132e-02  6.51113025e-02  4.03198400e-05\n",
            "   0.00000000e+00  8.81559707e-02  8.71737298e-02 -2.70860339e-01\n",
            "  -2.85291806e-01  1.66461661e-01  1.27860528e-01  0.00000000e+00\n",
            "   2.89440214e-04  5.08305117e-02  1.30274491e-01 -2.68906504e-01\n",
            "  -3.01575547e-01  2.40259130e-01  2.17555582e-01  1.32726200e-03\n",
            "   2.86743506e-04  1.05548469e-02  1.53370784e-01 -1.19535023e-01\n",
            "  -9.72508676e-02  2.85869477e-01  1.48776479e-01  5.42300885e-04\n",
            "  -3.34027768e-05 -1.00791185e-02 -7.02723943e-02  1.71108143e-02\n",
            "   1.94296251e-01  1.76697088e-01  1.94547299e-02 -6.69692515e-03]\n",
            " [-3.00064277e-17  1.83420813e-02  1.26475591e-01  1.32154768e-01\n",
            "  -1.34016091e-01 -2.64938748e-01 -1.16643687e-01 -1.68423364e-02\n",
            "   3.93970915e-04  7.94371509e-02  8.74387379e-02  6.55909445e-02\n",
            "  -7.89827276e-04 -2.80102025e-01 -1.59704493e-01 -1.51616130e-02\n",
            "   2.12613132e-04  4.24412500e-02  4.72722985e-03  7.38148343e-02\n",
            "   9.65404309e-02 -3.07581133e-01 -1.48011908e-01 -6.33142615e-03\n",
            "   5.01582866e-05 -4.41792337e-02 -7.25665072e-02  7.13385381e-02\n",
            "  -8.05252270e-03 -3.53007911e-01 -1.48327664e-01 -2.18498610e-04\n",
            "   0.00000000e+00 -5.45021687e-02 -3.36020502e-02  1.41335194e-01\n",
            "   1.50096765e-02 -2.57973819e-01 -9.38408413e-02  0.00000000e+00\n",
            "  -3.19976473e-04 -2.41498612e-02  1.21723802e-01  1.71362187e-01\n",
            "  -8.57777635e-02 -1.44627490e-01  7.01062037e-02  2.92247669e-03\n",
            "  -1.29047034e-04  1.86136338e-02  2.34990886e-01  1.69857799e-01\n",
            "  -5.39961874e-02  8.48975752e-02  2.22787106e-01  2.18621440e-02\n",
            "  -1.39804691e-05  1.75833209e-02  1.23158272e-01  9.83531695e-02\n",
            "   1.38485174e-01  2.32084186e-01  1.67026588e-01  3.48043793e-02]]\n"
          ]
        }
      ]
    },
    {
      "cell_type": "code",
      "source": [
        "# table\n",
        "\n",
        "t= PrettyTable(['','acc','pre','recall','f1'])\n",
        "\n",
        "t.add_row(['SVM', round(accuracy_svm,2),round(precision_svm,2),round(recall_svm,2),round(f1_svm,2)])\n",
        "t.add_row(['NB', round(accuracy_NB,2),round(precision_NB,2),round(recall_NB,2),round(f1_NB,2)])\n",
        "t.add_row(['Random', round(accuracy_random,2),round(precision_random,2),round(recall_random,2),round(f1_random,2)])\n",
        "t.add_row(['Radial Basis', round(accuracy_rad,2),round(precision_rad,2),round(recall_rad,2),round(f1_rad,2)])\n",
        "\n",
        "print(t)"
      ],
      "metadata": {
        "colab": {
          "base_uri": "https://localhost:8080/"
        },
        "id": "NpunUnx63rie",
        "outputId": "3250c948-6c17-4cc4-9046-cbeec8b9779d"
      },
      "execution_count": 12,
      "outputs": [
        {
          "output_type": "stream",
          "name": "stdout",
          "text": [
            "+--------------+------+------+--------+------+\n",
            "|              | acc  | pre  | recall |  f1  |\n",
            "+--------------+------+------+--------+------+\n",
            "|     SVM      | 0.97 | 0.97 |  0.98  | 0.97 |\n",
            "|      NB      | 0.82 | 0.86 |  0.83  | 0.82 |\n",
            "|    Random    | 0.98 | 0.98 |  0.98  | 0.98 |\n",
            "| Radial Basis | 0.99 | 0.99 |  0.99  | 0.99 |\n",
            "+--------------+------+------+--------+------+\n"
          ]
        }
      ]
    },
    {
      "cell_type": "markdown",
      "source": [
        "#Task 2. \n",
        "For given bank dataset (bank.csv) having the following attributes :\n",
        "1.\t**age** (numeric)\n",
        "2.\t**job** : type of job (categorical: 'admin.','blue-collar','entrepreneur','housemaid','management','retired','self-employed','services','student','technician','unemployed','unknown')\n",
        "3.\t**marital** : marital status (categorical: 'divorced','married','single','unknown'; note: 'divorced' means divorced or widowed)\n",
        "4.\t**education** (categorical: 'basic.4y','basic.6y','basic.9y','high.school','illiterate','professional.course','university.degree','unknown')\n",
        "5.\t**default**: has credit in default? (categorical: 'no','yes','unknown')\n",
        "6.\t**housing**: has housing loan? (categorical: 'no','yes','unknown')\n",
        "7.\t**loan**: has personal loan? (categorical: 'no','yes','unknown')\n",
        "8.\t**contact**: contact communication type (categorical: 'cellular','telephone')\n",
        "9.\t**month**: last contact month of year (categorical: 'jan', 'feb', 'mar', ..., 'nov', 'dec')\n",
        "10.\t**day_of_week**: last contact day of the week (categorical: 'mon','tue','wed','thu','fri')\n",
        "11.\t**duration**: last contact duration, in seconds (numeric). Important note: this attribute highly affects the output target (e.g., if duration=0 then y='no'). Yet, the duration is not known before a call is performed. Also, after the end of the call y is obviously known. Thus, this input should only be included for benchmark purposes and should be discarded if the intention is to have a realistic predictive model.\n",
        "12.\t**campaign**: number of contacts performed during this campaign and for this client (numeric, includes last contact)\n",
        "13.\t**pdays**: number of days that passed by after the client was last contacted from a previous campaign (numeric; 999 means client was not previously contacted)\n",
        "14.\t**previous**: number of contacts performed before this campaign and for this client (numeric)\n",
        "15.\t**poutcome**: outcome of the previous marketing campaign (categorical: 'failure','nonexistent','success')\n",
        "Output variable (desired target):\n",
        "16.\t**y**. has the client subscribed a term deposit? (binary: 'yes','no')\n",
        "\n"
      ],
      "metadata": {
        "id": "b52OPWPD2afi"
      }
    },
    {
      "cell_type": "markdown",
      "source": [
        "#3.1. Apply StandardScaler() function to columns that contains numerical data ('age', 'balance', 'day', 'campaign', 'pdays', 'previous')"
      ],
      "metadata": {
        "id": "q89LEvT7dqaZ"
      }
    },
    {
      "cell_type": "code",
      "source": [
        "#code"
      ],
      "metadata": {
        "id": "8vx3mfIidu4P"
      },
      "execution_count": null,
      "outputs": []
    },
    {
      "cell_type": "markdown",
      "source": [
        "#3.2. Apply Encode Categorical Value (OneHotEncoder) to transfrom categorical data to numerical data ('job', 'marital', 'education', 'default', 'housing', 'loan', 'contact', 'month', 'poutcome')"
      ],
      "metadata": {
        "id": "r7acR0TxdvY8"
      }
    },
    {
      "cell_type": "code",
      "source": [
        "#code"
      ],
      "metadata": {
        "id": "egtgBmAtd0um"
      },
      "execution_count": null,
      "outputs": []
    },
    {
      "cell_type": "markdown",
      "source": [
        "#3.3. Apply **Decision tree, Random forest, kNN, NaïveBayes** to preproceed dataset in the previous steps. Then compare the obtained results using **accuracy, precision, recall, f1** measures."
      ],
      "metadata": {
        "id": "K2Si6d69d1nh"
      }
    },
    {
      "cell_type": "code",
      "source": [
        "#code"
      ],
      "metadata": {
        "id": "Ouil-cf_d8jW"
      },
      "execution_count": null,
      "outputs": []
    },
    {
      "cell_type": "markdown",
      "source": [
        "#3.4. Using selection feature to above dataset, then compare the classification results with those in Task 2.3. "
      ],
      "metadata": {
        "id": "SweVRB4meApP"
      }
    },
    {
      "cell_type": "code",
      "source": [
        "#code"
      ],
      "metadata": {
        "id": "seFBhqCSeC7C"
      },
      "execution_count": null,
      "outputs": []
    },
    {
      "cell_type": "markdown",
      "source": [
        "#Task 4. \n",
        "For a given dataset in the Lab #5 (**credit card dataset**), perform feature selection and thencompare the performance of selected classification algorithms (Decision Tree, kNN, Logistic Regression, SVM, Random Forest and NaiveBayes) based on accuracy, precision, recall, f1 measures.\n"
      ],
      "metadata": {
        "id": "Z5pp7_h-aP2u"
      }
    },
    {
      "cell_type": "code",
      "source": [
        "# code"
      ],
      "metadata": {
        "id": "Rw_-8FIf2KxW"
      },
      "execution_count": null,
      "outputs": []
    },
    {
      "cell_type": "markdown",
      "source": [
        "#Finally,\n",
        "Save a copy in your Github. Remember renaming the notebook."
      ],
      "metadata": {
        "id": "Ok7RGkea_b7n"
      }
    }
  ]
}